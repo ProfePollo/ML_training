{
 "cells": [
  {
   "cell_type": "code",
   "execution_count": null,
   "id": "12a176c1",
   "metadata": {},
   "outputs": [
    {
     "name": "stdout",
     "output_type": "stream",
     "text": [
      "['abs', 'ces', 'rhs', 'jfh', 'ksj', 'dfh', 'ke']\n",
      "['abs', 'ces', 'rhs', 'jfh', 'ksj', 'dfh', 'ke$']\n"
     ]
    }
   ],
   "source": [
    "s = \"abscesrhsjfhksjdfhke\"\n",
    "k = 3\n",
    "fill = \"$\"\n",
    "# it works like this range(start, stop, step)\n",
    "groups = [s[ i : i+ k] for i in range(0, len(s), k )]\n",
    "print(groups)\n",
    "if len(groups[-1]) < k:\n",
    "    groups[-1] = groups[-1].ljust(k, fill)\n",
    "print(groups)"
   ]
  }
 ],
 "metadata": {
  "kernelspec": {
   "display_name": "base",
   "language": "python",
   "name": "python3"
  },
  "language_info": {
   "codemirror_mode": {
    "name": "ipython",
    "version": 3
   },
   "file_extension": ".py",
   "mimetype": "text/x-python",
   "name": "python",
   "nbconvert_exporter": "python",
   "pygments_lexer": "ipython3",
   "version": "3.9.13"
  }
 },
 "nbformat": 4,
 "nbformat_minor": 5
}
